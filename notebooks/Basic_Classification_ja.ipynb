{
 "cells": [
  {
   "cell_type": "markdown",
   "metadata": {
    "colab_type": "text",
    "id": "ixFXaLZ2NBst"
   },
   "source": [
    "##### Copyright 2018 The TensorFlow Authors."
   ]
  },
  {
   "cell_type": "markdown",
   "metadata": {},
   "source": [
    "##### Modifications Copyright 2019 Tomoaki Masuda."
   ]
  },
  {
   "cell_type": "code",
   "execution_count": 1,
   "metadata": {
    "colab": {},
    "colab_type": "code",
    "id": "kViJmfJvNBsy"
   },
   "outputs": [],
   "source": [
    "#@title Licensed under the Apache License, Version 2.0 (the \"License\");\n",
    "# you may not use this file except in compliance with the License.\n",
    "# You may obtain a copy of the License at\n",
    "#\n",
    "# https://www.apache.org/licenses/LICENSE-2.0\n",
    "#\n",
    "# Unless required by applicable law or agreed to in writing, software\n",
    "# distributed under the License is distributed on an \"AS IS\" BASIS,\n",
    "# WITHOUT WARRANTIES OR CONDITIONS OF ANY KIND, either express or implied.\n",
    "# See the License for the specific language governing permissions and\n",
    "# limitations under the License."
   ]
  },
  {
   "cell_type": "code",
   "execution_count": 2,
   "metadata": {
    "colab": {},
    "colab_type": "code",
    "id": "vvxbW1-kNBs5"
   },
   "outputs": [],
   "source": [
    "#@title MIT License\n",
    "#\n",
    "# Copyright (c) 2017 François Chollet\n",
    "#\n",
    "# Permission is hereby granted, free of charge, to any person obtaining a\n",
    "# copy of this software and associated documentation files (the \"Software\"),\n",
    "# to deal in the Software without restriction, including without limitation\n",
    "# the rights to use, copy, modify, merge, publish, distribute, sublicense,\n",
    "# and/or sell copies of the Software, and to permit persons to whom the\n",
    "# Software is furnished to do so, subject to the following conditions:\n",
    "#\n",
    "# The above copyright notice and this permission notice shall be included in\n",
    "# all copies or substantial portions of the Software.\n",
    "#\n",
    "# THE SOFTWARE IS PROVIDED \"AS IS\", WITHOUT WARRANTY OF ANY KIND, EXPRESS OR\n",
    "# IMPLIED, INCLUDING BUT NOT LIMITED TO THE WARRANTIES OF MERCHANTABILITY,\n",
    "# FITNESS FOR A PARTICULAR PURPOSE AND NONINFRINGEMENT. IN NO EVENT SHALL\n",
    "# THE AUTHORS OR COPYRIGHT HOLDERS BE LIABLE FOR ANY CLAIM, DAMAGES OR OTHER\n",
    "# LIABILITY, WHETHER IN AN ACTION OF CONTRACT, TORT OR OTHERWISE, ARISING\n",
    "# FROM, OUT OF OR IN CONNECTION WITH THE SOFTWARE OR THE USE OR OTHER\n",
    "# DEALINGS IN THE SOFTWARE."
   ]
  },
  {
   "cell_type": "markdown",
   "metadata": {},
   "source": [
    "このノートブックは、以下のノートブックを元に日本語訳、一部章立ての再構成、加筆を行いました。https://github.com/tensorflow/docs/blob/master/site/en/tutorials/keras/basic_classification.ipynb"
   ]
  },
  {
   "cell_type": "markdown",
   "metadata": {
    "colab_type": "text",
    "id": "shXLyQxMNBtB"
   },
   "source": [
    "\n",
    "# はじめてのニューラルネットワークを学習する：基本の分類問題を解く\n"
   ]
  },
  {
   "cell_type": "markdown",
   "metadata": {
    "colab_type": "text",
    "id": "Yloripg3NBtI"
   },
   "source": [
    "\n",
    "このチュートリアルでは、スニーカーやシャツなどの衣料品画像を分類するニューラルネットワークモデルの学習を試します。始めるにあたって、詳細が分からなくても心配はいりません。ノートブックでは、ざっとTensorFlowの全体を概観し、進めながら詳細を説明します。 \n"
   ]
  },
  {
   "cell_type": "markdown",
   "metadata": {},
   "source": [
    "## A. 環境を準備する\n",
    "\n",
    "ここでは、TensorFlowでモデルを構築・学習するための高レベルAPIである [tf.keras](https://www.tensorflow.org/guide/keras)を使います。"
   ]
  },
  {
   "cell_type": "code",
   "execution_count": null,
   "metadata": {
    "colab": {},
    "colab_type": "code",
    "id": "X_FfINBLNBtJ"
   },
   "outputs": [],
   "source": [
    "from __future__ import absolute_import, division, print_function\n",
    "\n",
    "# TensorFlow and tf.keras\n",
    "import tensorflow as tf\n",
    "from tensorflow import keras\n",
    "\n",
    "# Helper libraries\n",
    "import numpy as np\n",
    "import matplotlib.pyplot as plt\n",
    "\n",
    "print(tf.__version__)"
   ]
  },
  {
   "cell_type": "markdown",
   "metadata": {},
   "source": [
    "## B. データセットを準備する"
   ]
  },
  {
   "cell_type": "markdown",
   "metadata": {
    "colab_type": "text",
    "id": "3os4HMI9NBtQ"
   },
   "source": [
    "\n",
    "### 1. データセットをインポートする\n"
   ]
  },
  {
   "cell_type": "markdown",
   "metadata": {
    "colab_type": "text",
    "id": "Beuw8ywfNBtT"
   },
   "source": [
    "このチュートリアルでは、10カテゴリ、7万枚のグレースケール画像を含む[Fashion MNIST](https://github.com/zalandoresearch/fashion-mnist)データセットを使います。データセットは、以下のような色々な衣料品の低解像度（28 x 28ピクセル）画像です。\n",
    "\n",
    "<table>\n",
    "  <tr><td>\n",
    "    <img src=\"https://tensorflow.org/images/fashion-mnist-sprite.png\"\n",
    "         alt=\"Fashion MNIST sprite\"  width=\"600\">\n",
    "  </td></tr>\n",
    "  <tr><td align=\"center\">\n",
    "    <b>図 1.</b> <a href=\"https://github.com/zalandoresearch/fashion-mnist\">Fashion-MNIST samples</a> (by Zalando, MIT License).<br/>&nbsp;\n",
    "  </td></tr>\n",
    "</table>\n",
    "\n",
    " Fashion MNISTは、古典的な[MNIST](http://yann.lecun.com/exdb/mnist/)データセットの代わりに使えるものとして作られました。MNISTは機械学習を使った画像認識の \"Hello, World\" (最初の題材)としてよく使われます。 MNISTデータセットは、Fashion MNISTの衣料品と同じ形式で、手書き数字の画像（0、1、2...9）が含まれています。 \n",
    "\n",
    "このチュートリアルは、Fashion MNISTを色々な使い方をしてみる、通常のMNISTよりやや難易度の高いものです。MNIST、Fashion MNIST共に、データセットは比較的小さく、アルゴリズムが予想通りに機能するかの確認に使えます。コードのテスト、デバッグには良い出発点です。 \n",
    "\n",
    "ネットワークの学習に6万枚の画像、分類をどれだけ正確に学習したかの評価に1万枚の画像を使います。TensorFlowからFashion MNISTデータセットを直接扱えるので手軽です。以下のように、データをインポート、ロードできます。\n"
   ]
  },
  {
   "cell_type": "code",
   "execution_count": null,
   "metadata": {
    "colab": {},
    "colab_type": "code",
    "id": "iSt-6z1ENBtV"
   },
   "outputs": [],
   "source": [
    "fashion_mnist = keras.datasets.fashion_mnist\n",
    "\n",
    "(train_images, train_labels), (test_images, test_labels) = fashion_mnist.load_data()"
   ]
  },
  {
   "cell_type": "markdown",
   "metadata": {
    "colab_type": "text",
    "id": "Gv7P8YyXNBtd"
   },
   "source": [
    "\n",
    "データセットをロードすると、4つのNumPy配列が返されます。配列とは、たくさんの数字の並んだ集まりだと考えてください。 \n",
    "\n",
    "-  `train_images`, `train_labels` の2配列は、つまりモデルが学習に使う学習データセットです。 \n",
    "-  `test_images`, `test_labels` の2配列は、モデルがテストに使うテストデータセットです。 \n",
    "\n",
    "画像は28 x 28 NumPyの配列です。1ピクセルに1つの数字が対応し、各ピクセルは0から255の間の値をとります。各画像には、その画像の*クラス(種類)*に応じて0から9の間の*ラベル*があります。ラベルが画像の並びに対応して並んだ配列として保存されています。\n",
    "\n",
    "\n",
    "<table>\n",
    "  <tr>\n",
    "    <th>Label</th>\n",
    "    <th>Class</th> \n",
    "  </tr>\n",
    "  <tr>\n",
    "    <td>0</td>\n",
    "    <td>T-shirt/top</td> \n",
    "  </tr>\n",
    "  <tr>\n",
    "    <td>1</td>\n",
    "    <td>Trouser</td> \n",
    "  </tr>\n",
    "    <tr>\n",
    "    <td>2</td>\n",
    "    <td>Pullover</td> \n",
    "  </tr>\n",
    "    <tr>\n",
    "    <td>3</td>\n",
    "    <td>Dress</td> \n",
    "  </tr>\n",
    "    <tr>\n",
    "    <td>4</td>\n",
    "    <td>Coat</td> \n",
    "  </tr>\n",
    "    <tr>\n",
    "    <td>5</td>\n",
    "    <td>Sandal</td> \n",
    "  </tr>\n",
    "    <tr>\n",
    "    <td>6</td>\n",
    "    <td>Shirt</td> \n",
    "  </tr>\n",
    "    <tr>\n",
    "    <td>7</td>\n",
    "    <td>Sneaker</td> \n",
    "  </tr>\n",
    "    <tr>\n",
    "    <td>8</td>\n",
    "    <td>Bag</td> \n",
    "  </tr>\n",
    "    <tr>\n",
    "    <td>9</td>\n",
    "    <td>Ankle boot</td> \n",
    "  </tr>\n",
    "</table>\n",
    "\n",
    "\n",
    "それぞれの画像は、それぞれひとつの対応するラベルを持ちます。ラベルは数字としてデータセットに持たれていますが、その数字に対応する *クラス名* はデータセットに含まれていません。後で結果表示などに使うので、 `class_names` という変数に保存してとっておきましょう。 \n"
   ]
  },
  {
   "cell_type": "code",
   "execution_count": null,
   "metadata": {
    "colab": {},
    "colab_type": "code",
    "id": "L3PIn_0uNBtg"
   },
   "outputs": [],
   "source": [
    "class_names = ['T-shirt/top', 'Trouser', 'Pullover', 'Dress', 'Coat', \n",
    "               'Sandal', 'Shirt', 'Sneaker', 'Bag', 'Ankle boot']"
   ]
  },
  {
   "cell_type": "markdown",
   "metadata": {
    "colab_type": "text",
    "id": "MjECRWr6NBtm"
   },
   "source": [
    "\n",
    "### 2. データセットの中身を見てみる\n",
    "\n",
    "モデルを学習する前にデータセットのフォーマットを調べてみましょう。次のセルを実行すると、`train_images` のデータの形＝次元がわかります。トレーニングセットに6万枚の画像があり、各画像は28 x 28ピクセルで表されることが伺えます。"
   ]
  },
  {
   "cell_type": "code",
   "execution_count": null,
   "metadata": {
    "colab": {},
    "colab_type": "code",
    "id": "zU8CM7DrNBto"
   },
   "outputs": [],
   "source": [
    "train_images.shape"
   ]
  },
  {
   "cell_type": "markdown",
   "metadata": {
    "colab_type": "text",
    "id": "oLh9nw26NBtt"
   },
   "source": [
    "\n",
    "同様に、トレーニングセットには(画像の数に対応した)6万の画像ラベルがあります。 \n"
   ]
  },
  {
   "cell_type": "code",
   "execution_count": null,
   "metadata": {
    "colab": {},
    "colab_type": "code",
    "id": "odQptm8ANBtw"
   },
   "outputs": [],
   "source": [
    "len(train_labels)"
   ]
  },
  {
   "cell_type": "markdown",
   "metadata": {
    "colab_type": "text",
    "id": "g0d-_QZzNBt1"
   },
   "source": [
    "\n",
    "各ラベルは0から9までの整数です。 \n"
   ]
  },
  {
   "cell_type": "code",
   "execution_count": null,
   "metadata": {
    "colab": {},
    "colab_type": "code",
    "id": "9D0PJOynNBt3"
   },
   "outputs": [],
   "source": [
    "train_labels"
   ]
  },
  {
   "cell_type": "markdown",
   "metadata": {
    "colab_type": "text",
    "id": "4D6EFLIxNBt9"
   },
   "source": [
    "\n",
    "テストセットには1万枚の画像があります。繰り返しますが、各画像は28 x 28ピクセルとして表されます。 \n"
   ]
  },
  {
   "cell_type": "code",
   "execution_count": null,
   "metadata": {
    "colab": {},
    "colab_type": "code",
    "id": "Z4p69QZmNBt_"
   },
   "outputs": [],
   "source": [
    "test_images.shape"
   ]
  },
  {
   "cell_type": "markdown",
   "metadata": {
    "colab_type": "text",
    "id": "uz8oh60RNBuG"
   },
   "source": [
    "\n",
    "テストセットには(画像の数に対応した)1万の画像ラベルがあります。 \n"
   ]
  },
  {
   "cell_type": "code",
   "execution_count": null,
   "metadata": {
    "colab": {},
    "colab_type": "code",
    "id": "dJyzXF-aNBuI"
   },
   "outputs": [],
   "source": [
    "len(test_labels)"
   ]
  },
  {
   "cell_type": "markdown",
   "metadata": {
    "colab_type": "text",
    "id": "To_rdEJtNBuO"
   },
   "source": [
    "\n",
    "## C. データセットを前処理する\n",
    "\n",
    "ネットワークを学習する前に、画像に前処理を施します。学習データセットの最初の画像を見てみると、ピクセルが0から255の範囲の数字を取るとわかります。\n"
   ]
  },
  {
   "cell_type": "code",
   "execution_count": null,
   "metadata": {
    "colab": {},
    "colab_type": "code",
    "id": "g-sF8O7cNBuR"
   },
   "outputs": [],
   "source": [
    "plt.figure()\n",
    "plt.imshow(train_images[0])\n",
    "plt.colorbar()\n",
    "plt.grid(False)\n",
    "plt.show()"
   ]
  },
  {
   "cell_type": "markdown",
   "metadata": {
    "colab_type": "text",
    "id": "crcezxbiNBuZ"
   },
   "source": [
    "ニューラルネットワークのモデルに入力する前に、これらの値を0から1の範囲におさまるようスケーリングします。そのため、値を255で割ります。 *学習データセット*と*テストデータセット*に、同じ方法で前処理を施すことが大事です。"
   ]
  },
  {
   "cell_type": "code",
   "execution_count": null,
   "metadata": {
    "colab": {},
    "colab_type": "code",
    "id": "aeLY0pqJNBub"
   },
   "outputs": [],
   "source": [
    "train_images = train_images / 255.0\n",
    "\n",
    "test_images = test_images / 255.0"
   ]
  },
  {
   "cell_type": "markdown",
   "metadata": {
    "colab_type": "text",
    "id": "P1Umxy7sNBuh"
   },
   "source": [
    "\n",
    " *学習データセット*の最初の25枚の画像を、その種別(クラス)名と共に表示してみましょう。データが正しい形式であることを確認してください。これでネットワークの構築と、学習の準備が整いました。 \n"
   ]
  },
  {
   "cell_type": "code",
   "execution_count": null,
   "metadata": {
    "colab": {},
    "colab_type": "code",
    "id": "A0AwBGvSNBuj"
   },
   "outputs": [],
   "source": [
    "plt.figure(figsize=(10,10))\n",
    "for i in range(25):\n",
    "    plt.subplot(5,5,i+1)\n",
    "    plt.xticks([])\n",
    "    plt.yticks([])\n",
    "    plt.grid(False)\n",
    "    plt.imshow(train_images[i], cmap=plt.cm.binary)\n",
    "    plt.xlabel(class_names[train_labels[i]])\n",
    "plt.show()"
   ]
  },
  {
   "cell_type": "markdown",
   "metadata": {
    "colab_type": "text",
    "id": "iJY8ykoCNBuq"
   },
   "source": [
    "\n",
    "## D. モデルを作成する\n",
    "\n",
    "ニューラルネットワークを構築するには、モデルのレイヤを設定し、コンパイルする必要があります。 \n"
   ]
  },
  {
   "cell_type": "markdown",
   "metadata": {
    "colab_type": "text",
    "id": "7Qwuqc9UNBuu"
   },
   "source": [
    "\n",
    "### 1. モデルの各層を決める\n",
    "\n",
    "ニューラルネットワークの基本的な構成要素は*レイヤ*です。レイヤは、そこに入力されたデータから、表現を抽出します。そして、うまくいけば、これらの表現は当面の問題にとってより意味があります。 \n",
    "\n",
    "ディープラーニングの大部分は、単純なレイヤを順番につなげていくことで構成されます。 `tf.keras.layers.Dense`などのほとんどのレイヤには、学習中に最適な値に調整されていくパラメータがあります。 \n"
   ]
  },
  {
   "cell_type": "code",
   "execution_count": null,
   "metadata": {
    "colab": {},
    "colab_type": "code",
    "id": "tSxx38lENBuv"
   },
   "outputs": [],
   "source": [
    "model = keras.Sequential([\n",
    "    keras.layers.Flatten(input_shape=(28, 28)),\n",
    "    keras.layers.Dense(128, activation=tf.nn.relu),\n",
    "    keras.layers.Dense(10, activation=tf.nn.softmax)\n",
    "])"
   ]
  },
  {
   "cell_type": "markdown",
   "metadata": {
    "colab_type": "text",
    "id": "ntg_19XMNBu1"
   },
   "source": [
    "\n",
    "このネットワークの最初のレイヤである`tf.keras.layers.Flatten`は、画像のフォーマットを（28 x 28ピクセルの）2次元配列から28 * 28 = 784ピクセルの1次元配列に変換します。このレイヤを、画像内のピクセル列を積み重ねずに並べたものと考えてください。この層には学習できるパラメータ（重み）はありません。データの形を変換する役割だけを持ちます。 \n",
    "\n",
    "ピクセルが平坦化(Flatten)された後、ネットワークは2つの`tf.keras.layers.Dense`レイヤを続けて接続します。これらは全結合層です。最初の`Dense`層には128個のノード（またはニューロン）があります。 2番目（最後）の層は10ノードの*ソフトマックス*層です。この層は、合計1になるように、10個の確率スコアの配列を返します。各ノードには、現在の画像が10個のクラスの1つに属する確率（確信度）を表すスコアが含まれます。 \n"
   ]
  },
  {
   "cell_type": "markdown",
   "metadata": {},
   "source": [
    "### 2. モデルをコンパイルする\n",
    "\n",
    "モデルのトレーニングの準備が整う前に、もう少し設定が必要です。これらの設定は、モデルの*コンパイル*段階で追加*します。 \n",
    "-  *損失関数* - これは、モデルがトレーニング中にどれだけ正確であるかを測定します。この関数を最小限に抑えるよう、モデルを正しい方向に「操作」していきます。\n",
    "-  *オプティマイザ* - これは、表示されるデータとその損失関数に基づいてモデルを更新する方法です。\n",
    "-  *メトリックは、*トレーニングとテストの手順を監視するのに使用しました。次の例では、 *精度* 、つまり正しく分類された画像の割合を使用し*ます* 。\n"
   ]
  },
  {
   "cell_type": "code",
   "execution_count": null,
   "metadata": {
    "colab": {},
    "colab_type": "code",
    "id": "dFOq11p6NBu3"
   },
   "outputs": [],
   "source": [
    "model.compile(optimizer='adam', \n",
    "              loss='sparse_categorical_crossentropy',\n",
    "              metrics=['accuracy'])"
   ]
  },
  {
   "cell_type": "markdown",
   "metadata": {
    "colab_type": "text",
    "id": "E8QZApQXNBvF"
   },
   "source": [
    "\n",
    "## E. モデルを学習させる\n",
    "\n",
    "ニューラルネットワークモデルの学習には、次の手順が必要です。 \n",
    "\n",
    "1. 学習データをモデルに入力します。（この例では`train_images`および`train_labels`配列）\n",
    "1. モデルは、画像とラベルの関連付けを学習します。 \n",
    "1. モデルに、テストセット（この例では`test_images`配列）のラベルを予測させます。予測が`test_labels`配列のラベルと一致するか確認します。 \n",
    "\n",
    "学習開始するには、 `model.fit`メソッドを呼び出します。モデルが学習データとそのラベルの関連付けを学ぶことを、「フィット(fit)」と表現します。 \n"
   ]
  },
  {
   "cell_type": "code",
   "execution_count": null,
   "metadata": {},
   "outputs": [],
   "source": [
    "model.fit(train_images, train_labels, epochs=5)"
   ]
  },
  {
   "cell_type": "markdown",
   "metadata": {
    "colab_type": "text",
    "id": "IW9agt9UNBvO"
   },
   "source": [
    "\n",
    "モデルの学習中に、損失と精度の数値が表示されます。このモデルは、学習データに対して約0.88（または88％）の精度に達します。 \n"
   ]
  },
  {
   "cell_type": "markdown",
   "metadata": {
    "colab_type": "text",
    "id": "YUh-VsKSNBvU"
   },
   "source": [
    "\n",
    "## F. 学習済みモデルを評価する\n"
   ]
  },
  {
   "cell_type": "markdown",
   "metadata": {},
   "source": [
    "### 1. テストデータ全体で評価する\n",
    "\n",
    "次に、モデルがテストデータセットに対してどう動作するかを比較します。 "
   ]
  },
  {
   "cell_type": "code",
   "execution_count": null,
   "metadata": {
    "colab": {},
    "colab_type": "code",
    "id": "hDUxjBfTNBvV"
   },
   "outputs": [],
   "source": [
    "test_loss, test_acc = model.evaluate(test_images, test_labels)\n",
    "\n",
    "print('Test accuracy:', test_acc)"
   ]
  },
  {
   "cell_type": "markdown",
   "metadata": {
    "colab_type": "text",
    "id": "08H-3mKYNBve"
   },
   "source": [
    "\n",
    "結果を見ると、テストデータセットでの推論精度は、学習データセットの精度より少し劣っています。この精度のギャップは *過学習* の例です。過学習とは、機械学習モデルの性能が、学習データよりも新しいデータに対して悪くなることです。 \n"
   ]
  },
  {
   "cell_type": "markdown",
   "metadata": {
    "colab_type": "text",
    "id": "I8h40JaJNBvh"
   },
   "source": [
    "\n",
    "### 2. 個別の画像で評価する\n",
    "\n",
    "モデルを訓練したら、それを使って新しい画像での推論を試すことができます。 \n"
   ]
  },
  {
   "cell_type": "code",
   "execution_count": null,
   "metadata": {
    "colab": {},
    "colab_type": "code",
    "id": "C9fzXslUNBvi"
   },
   "outputs": [],
   "source": [
    "predictions = model.predict(test_images)"
   ]
  },
  {
   "cell_type": "markdown",
   "metadata": {
    "colab_type": "text",
    "id": "xiGowoFnNBvn"
   },
   "source": [
    "\n",
    "ここでは、モデルがテストデータセットの各画像のラベルを予測しています。最初の予測を見てみましょう。 \n"
   ]
  },
  {
   "cell_type": "code",
   "execution_count": null,
   "metadata": {
    "colab": {},
    "colab_type": "code",
    "id": "B16XnVixNBvo"
   },
   "outputs": [],
   "source": [
    "predictions[0]"
   ]
  },
  {
   "cell_type": "markdown",
   "metadata": {
    "colab_type": "text",
    "id": "Xy5Ieo99NBvt"
   },
   "source": [
    "\n",
    "予測は10個の数字の配列です。これらは、10種類の衣料品のそれぞれのラベルに対応する、モデルの「確信度(confidence)」つまり、それぞれのラベルであると自信を持って分類できる度合いを表します。どのラベルが最も高い確信度を持つのかを見てみましょう。 \n"
   ]
  },
  {
   "cell_type": "code",
   "execution_count": null,
   "metadata": {
    "colab": {},
    "colab_type": "code",
    "id": "XrfI4aLiNBvu"
   },
   "outputs": [],
   "source": [
    "np.argmax(predictions[0])"
   ]
  },
  {
   "cell_type": "markdown",
   "metadata": {
    "colab_type": "text",
    "id": "79Mqi_y2NBvz"
   },
   "source": [
    "\n",
    "ここでは、モデルはこの画像がアンクルブーツ、つまり`class_names[9]`だと判定しています。テスト画像のラベルをチェックして、これが正しいか確認してみましょう。\n"
   ]
  },
  {
   "cell_type": "code",
   "execution_count": null,
   "metadata": {
    "colab": {},
    "colab_type": "code",
    "id": "eeSI6nEUNBv2"
   },
   "outputs": [],
   "source": [
    "test_labels[0]"
   ]
  },
  {
   "cell_type": "markdown",
   "metadata": {
    "colab_type": "text",
    "id": "HC9oG-l8NBv7"
   },
   "source": [
    "\n",
    "これをグラフ化し、10チャンネルのフルセットを見られます。\n"
   ]
  },
  {
   "cell_type": "code",
   "execution_count": null,
   "metadata": {
    "colab": {},
    "colab_type": "code",
    "id": "4TdC-9dKNBv8"
   },
   "outputs": [],
   "source": [
    "def plot_image(i, predictions_array, true_label, img):\n",
    "  predictions_array, true_label, img = predictions_array[i], true_label[i], img[i]\n",
    "  plt.grid(False)\n",
    "  plt.xticks([])\n",
    "  plt.yticks([])\n",
    "  \n",
    "  plt.imshow(img, cmap=plt.cm.binary)\n",
    "\n",
    "  predicted_label = np.argmax(predictions_array)\n",
    "  if predicted_label == true_label:\n",
    "    color = 'blue'\n",
    "  else:\n",
    "    color = 'red'\n",
    "  \n",
    "  plt.xlabel(\"{} {:2.0f}% ({})\".format(class_names[predicted_label],\n",
    "                                100*np.max(predictions_array),\n",
    "                                class_names[true_label]),\n",
    "                                color=color)\n",
    "\n",
    "def plot_value_array(i, predictions_array, true_label):\n",
    "  predictions_array, true_label = predictions_array[i], true_label[i]\n",
    "  plt.grid(False)\n",
    "  plt.xticks([])\n",
    "  plt.yticks([])\n",
    "  thisplot = plt.bar(range(10), predictions_array, color=\"#777777\")\n",
    "  plt.ylim([0, 1]) \n",
    "  predicted_label = np.argmax(predictions_array)\n",
    " \n",
    "  thisplot[predicted_label].set_color('red')\n",
    "  thisplot[true_label].set_color('blue')"
   ]
  },
  {
   "cell_type": "markdown",
   "metadata": {
    "colab_type": "text",
    "id": "Jq3jtxuKNBwD"
   },
   "source": [
    "\n",
    " 0番目の画像、予測、および予測配列を見てみましょう。 \n"
   ]
  },
  {
   "cell_type": "code",
   "execution_count": null,
   "metadata": {
    "colab": {},
    "colab_type": "code",
    "id": "UBvYAjtQNBwF"
   },
   "outputs": [],
   "source": [
    "i = 0\n",
    "plt.figure(figsize=(6,3))\n",
    "plt.subplot(1,2,1)\n",
    "plot_image(i, predictions, test_labels, test_images)\n",
    "plt.subplot(1,2,2)\n",
    "plot_value_array(i, predictions,  test_labels)\n",
    "plt.show()"
   ]
  },
  {
   "cell_type": "code",
   "execution_count": null,
   "metadata": {
    "colab": {},
    "colab_type": "code",
    "id": "JFZ2IMwPNBwI"
   },
   "outputs": [],
   "source": [
    "i = 12\n",
    "plt.figure(figsize=(6,3))\n",
    "plt.subplot(1,2,1)\n",
    "plot_image(i, predictions, test_labels, test_images)\n",
    "plt.subplot(1,2,2)\n",
    "plot_value_array(i, predictions,  test_labels)\n",
    "plt.show()"
   ]
  },
  {
   "cell_type": "markdown",
   "metadata": {
    "colab_type": "text",
    "id": "too-4ZImNBwO"
   },
   "source": [
    "\n",
    "いくつかの画像をそれらの予測とともに表示してみましょう。正しい予測ラベルは青で、正しくない予測ラベルは赤です。数値は、予測ラベルの割合をパーセントで（最大100）表します。モデルの確信度が高くても、間違っているケースがありますね。\n"
   ]
  },
  {
   "cell_type": "code",
   "execution_count": null,
   "metadata": {
    "colab": {},
    "colab_type": "code",
    "id": "pN-2vMcbNBwQ"
   },
   "outputs": [],
   "source": [
    "# Plot the first X test images, their predicted label, and the true label\n",
    "# Color correct predictions in blue, incorrect predictions in red\n",
    "num_rows = 5\n",
    "num_cols = 3\n",
    "num_images = num_rows*num_cols\n",
    "plt.figure(figsize=(2*2*num_cols, 2*num_rows))\n",
    "for i in range(num_images):\n",
    "  plt.subplot(num_rows, 2*num_cols, 2*i+1)\n",
    "  plot_image(i, predictions, test_labels, test_images)\n",
    "  plt.subplot(num_rows, 2*num_cols, 2*i+2)\n",
    "  plot_value_array(i, predictions, test_labels)\n",
    "plt.show()"
   ]
  },
  {
   "cell_type": "markdown",
   "metadata": {
    "colab_type": "text",
    "id": "_OlAui2iNBwW"
   },
   "source": [
    "\n",
    "最後に、学習済みモデルを使い、ひとつの画像で推論します。 \n"
   ]
  },
  {
   "cell_type": "code",
   "execution_count": null,
   "metadata": {
    "colab": {},
    "colab_type": "code",
    "id": "2GkiJ7O8NBwY"
   },
   "outputs": [],
   "source": [
    "# Grab an image from the test dataset\n",
    "img = test_images[0]\n",
    "\n",
    "print(img.shape)"
   ]
  },
  {
   "cell_type": "markdown",
   "metadata": {
    "colab_type": "text",
    "id": "M-5CGQi6NBwe"
   },
   "source": [
    "\n",
    " `tf.keras`モデルは、一度に複数の入力を含む *バッチ* （集合）に対して推論を行うよう最適化されています。そのため、単一の画像で推論する場合でも、リストに画像を一つ追加し、それを入力として与える必要があります。 \n"
   ]
  },
  {
   "cell_type": "code",
   "execution_count": null,
   "metadata": {
    "colab": {},
    "colab_type": "code",
    "id": "HsU1GYelNBwf"
   },
   "outputs": [],
   "source": [
    "# Add the image to a batch where it's the only member.\n",
    "img = (np.expand_dims(img,0))\n",
    "\n",
    "print(img.shape)"
   ]
  },
  {
   "cell_type": "markdown",
   "metadata": {
    "colab_type": "text",
    "id": "dkIzPSTwNBwk"
   },
   "source": [
    "\n",
    "今度は画像を使い推論します。 \n"
   ]
  },
  {
   "cell_type": "code",
   "execution_count": null,
   "metadata": {
    "colab": {},
    "colab_type": "code",
    "id": "f3poELpzNBwl"
   },
   "outputs": [],
   "source": [
    "predictions_single = model.predict(img)\n",
    "\n",
    "print(predictions_single)"
   ]
  },
  {
   "cell_type": "code",
   "execution_count": null,
   "metadata": {
    "colab": {},
    "colab_type": "code",
    "id": "T7AM64ycNBwp"
   },
   "outputs": [],
   "source": [
    "plot_value_array(0, predictions_single, test_labels)\n",
    "plt.xticks(range(10), class_names, rotation=45)\n",
    "plt.show()"
   ]
  },
  {
   "cell_type": "markdown",
   "metadata": {
    "colab_type": "text",
    "id": "rUmKsSTaNBwt"
   },
   "source": [
    "\n",
    " `model.predict`は、データのバッチ内の各画像に対して1つずつ、10個のラベルそれぞれの確信度のリストの、画像の数分のリストを返します。バッチ内の、画像の予測をひとつ取り出してみましょう。"
   ]
  },
  {
   "cell_type": "code",
   "execution_count": null,
   "metadata": {
    "colab": {},
    "colab_type": "code",
    "id": "zUq1pJ4fNBwu"
   },
   "outputs": [],
   "source": [
    "prediction_result = np.argmax(predictions_single[0])\n",
    "print(prediction_result)"
   ]
  },
  {
   "cell_type": "markdown",
   "metadata": {
    "colab_type": "text",
    "id": "h-n2r6qxNBwy"
   },
   "source": [
    "\n",
    "そして、以前と同様、モデルは9のラベル（アンクルブーツ）を予測します。 \n"
   ]
  },
  {
   "cell_type": "code",
   "execution_count": null,
   "metadata": {},
   "outputs": [],
   "source": []
  }
 ],
 "metadata": {
  "colab": {
   "collapsed_sections": [
    "QaOY9LNgNBtl",
    "0wbYc9GeNBuN",
    "SnZP5dIjNBun",
    "Khk3dJkgNBut",
    "qUb7cFKENBuz",
    "1oCfoCRcNBvC",
    "amKsb2pINBvR",
    "PXzMJHrcNBvf"
   ],
   "name": "ファッション画像を分類する",
   "provenance": [],
   "version": "0.3.2"
  },
  "kernelspec": {
   "display_name": "Python 3",
   "language": "python",
   "name": "python3"
  },
  "accelerator": "GPU"
 },
 "nbformat": 4,
 "nbformat_minor": 2
}
